{
 "cells": [
  {
   "cell_type": "markdown",
   "metadata": {
    "colab_type": "text",
    "id": "FqE3HuCSG5rj"
   },
   "source": [
    "<img src=\"https://github.com/insaid2018/Term-1/blob/master/Images/INSAID_Full%20Logo.png?raw=true\" width=\"240\" height=\"360\" />\n",
    "\n",
    "# Linear Discriminant Analysis"
   ]
  },
  {
   "cell_type": "markdown",
   "metadata": {
    "colab_type": "text",
    "id": "jI0BLRSFG5rk"
   },
   "source": [
    "## Table of Content\n",
    "\n",
    "1. [Introduction to Linear Discriminant Analysis](#section1)<br>\n",
    "    - 1.1 [What is Dimensionality Reduction?](#section101)<br>\n",
    "    - 1.2 [Linear DIscriminant Analysis](#section102)<br>\n",
    "        - 1.2.1 [Purpose of LDA](#section103)<br>\n",
    "        - 1.2.2 [Understanding using example](#section104)<br>\n",
    "        - 1.2.3 [LDA Applications](#section105)<br>\n",
    "        - 1.2.4 [PCA vs LDA](#section106)<br>\n",
    "2. [Use Case : IBM Attrition and Performance](#section2)<br>\n",
    "3. [Data loading and description](#section3)<br>\n",
    "4. [Exploratory Data Analysis](#section4)<br>\n",
    "5. [Dimensionality Reduction](#section5)<br>\n",
    "6. [Modelling and Prediction](#section6)<br>\n",
    "7. [Computing time difference between the different models created](#section7)\n",
    "8. [Applying KNN, SVM and Decision Tree and comparing using accuracy score](#section8)\n",
    "9. [Conclusion](#section9)"
   ]
  },
  {
   "cell_type": "markdown",
   "metadata": {
    "colab_type": "text",
    "id": "uy92UkgIG5rl"
   },
   "source": [
    "![image.png](attachment:image.png)"
   ]
  },
  {
   "cell_type": "markdown",
   "metadata": {
    "colab_type": "text",
    "id": "vYUvS0s5G5rm"
   },
   "source": [
    "<a id=section101></a>\n",
    "### What is Dimensionality Reduction?"
   ]
  },
  {
   "cell_type": "markdown",
   "metadata": {
    "colab_type": "text",
    "id": "JWWD40KSG5rn"
   },
   "source": [
    "- Most of the time, we deal with datasets having lots of __redundant parameters__ that don’t provide significant amount of new information to us. \n",
    "- Using these parameters in /__building our model won’t help in increasing our accuracy for prediction__ and may __decrease__ too!\n",
    "\n",
    "- One way to deal with it could be by __deleting__ these parameters but this would __lead to significant data loss__ if there are many such parameters.\n",
    "\n",
    "Hence, dimensionality reduction comes into the picture.\n",
    "\n",
    "Differenct techniques for Dimensionality Reduction:\n",
    "- Principal Component Analysis (PCA)\n",
    "- Linear Discriminant Analysis (LDA)![image.png](attachment:image.png)"
   ]
  },
  {
   "cell_type": "markdown",
   "metadata": {
    "colab_type": "text",
    "id": "AiFovR5rG5ro"
   },
   "source": [
    "<a id=section102></a>\n",
    "### Linear Discriminant Analysis"
   ]
  },
  {
   "cell_type": "markdown",
   "metadata": {
    "colab_type": "text",
    "id": "ncGOD3vDG5rp"
   },
   "source": [
    "Linear Discriminant Analysis is a __dimensionality reduction__ technique used as a __preprocessing step__ in Machine Learning and __pattern classification applications__.\n",
    "\n",
    "The main goal of dimensionality reduction techinques is to __reduce the dimensions__ by removing the reduntant and dependent features by transforming the features from __higher dimensional__ space to a space with __lower dimensions__.\n",
    "\n",
    "Linear Discriminant Analysis is a __supervised classification technique__ which takes labels into consideration.![image.png](attachment:image.png)"
   ]
  },
  {
   "cell_type": "markdown",
   "metadata": {
    "colab_type": "text",
    "id": "hzHMYHz3G5rr"
   },
   "source": [
    "Unlike PCA, where our goal was to __retain maximum variance__, here we try to project a dataset onto a lower dimensional space with __good class seperability__ in order to avoid overfitting."
   ]
  },
  {
   "cell_type": "markdown",
   "metadata": {
    "colab_type": "text",
    "id": "3SJbyiUyG5rs"
   },
   "source": [
    "<a id=section103></a>\n",
    "### Purpose of LDA"
   ]
  },
  {
   "cell_type": "markdown",
   "metadata": {
    "colab_type": "text",
    "id": "VZZIyAPVG5rt"
   },
   "source": [
    "The purpose of Discriminant Analysis is to __classify__ objects (people, customers, things, etc) into one of two or more groups based on a __set of features__ that __describe__ the objects (e.g. gender, age, income, weight, preference score, etc.).<br>![image.png](attachment:image.png)\n",
    "In general, we assign an object to one of a number of predetermined groups __based on observations made on the object__.<br><br>\n",
    "- Always keep in mind that the __groups__ are _known or predetermined_ and do not have order.<br> \n",
    "- The classification problem gives several objects with a set features measured from those objects.<br><br>\n",
    "\n",
    "What are we looking for is two things:\n",
    "\n",
    "1. Which __set of features__ can best determine group membership of the object?\n",
    "2. What is the classification __rule__ or __model__ to best seperate those groups?"
   ]
  },
  {
   "cell_type": "markdown",
   "metadata": {
    "colab_type": "text",
    "id": "J0bvdlRoG5ru"
   },
   "source": [
    "<a id=section104></a>\n",
    "### Understanding with example"
   ]
  },
  {
   "cell_type": "markdown",
   "metadata": {
    "colab_type": "text",
    "id": "hEGxYJDPG5rv"
   },
   "source": [
    "For example, we want to know whether a soap product is good or bad based on several measurements on the product such as weight, volume, __people's preferential score__, smell, color contrast etc. The object here is soap. the class category or the group __\"good\" and \"bad\"__ is what we are looking for(it is also called __dependent variable__). Each measurement on the product is called __features__ that describe the object(it isa lso called independent variable).![image.png](attachment:image.png)\n",
    "\n",
    "Thus, in discriminant analysis, the dependent variable(Y) is the group and the independent variables(X) are the object features that might describe that group. The depepndent variable is always category(nominal scale) variable while the indepepndent variables can be any measurement scale.\n",
    "\n",
    "If we assume that the groups are linearly seperable, we can use linear discriminant model(LDA). Linearly seperable suggests that the groups can be seperated by a linear combination of features that describe the objects. If only two features, the seperators between ojects group will become lines. If the features are three, the seperator is a plane and the number of features(i.e. independent variables) is more than 3, the seperatores, become a hyper-plane"
   ]
  },
  {
   "cell_type": "markdown",
   "metadata": {
    "colab_type": "text",
    "id": "oNjfdKFLG5rw"
   },
   "source": [
    "<a id=section105></a>\n",
    "### LDA Applications"
   ]
  },
  {
   "cell_type": "markdown",
   "metadata": {
    "colab_type": "text",
    "id": "yaAXuWdmG5rx"
   },
   "source": [
    "Discriminant analysis has been successfully used for many applications. <br>As long as we can transform the problem into a classification problem, we may apply the technique. <br>We may use Discriminant analysis for original applications if you have new additional combinantion of features and objects that may never been considered by other people before. <br>Here are a few fields and examples:"
   ]
  },
  {
   "cell_type": "markdown",
   "metadata": {
    "colab_type": "text",
    "id": "-e5jerjOG5ry"
   },
   "source": [
    "| Applications | Description | Images |\n",
    "| --- | --- | --- |\n",
    "| __Identification__ | To __identify__ type of customers that is __likely to buy__ certain product in a store | ![image.png](https://raw.githubusercontent.com/insaid2018/Term-4/master/images/buy_or_not.png) |\n",
    "| __Decision Making__ | Doctor __diagnosing illness__ may see whuch disease the patient has | ![image.png](https://raw.githubusercontent.com/insaid2018/Term-4/master/images/hiv-positive-negative-3961118.jpg) |\n",
    "| __Prediction__ | __Will it rain today__ can be tought as prediction | ![image.png](https://raw.githubusercontent.com/insaid2018/Term-4/master/images/prediction.jpg) |\n",
    "| __Pattern recognition__ | To __distinguish__ pedestrians from dogs and cars on captured image | ![image.png](https://raw.githubusercontent.com/insaid2018/Term-4/master/images/pattern_recog.jpg) |\n",
    "| __Learning__ | Scientist want to __teach robot__ to learn to talk | ![image.png](https://raw.githubusercontent.com/insaid2018/Term-4/master/images/scientific.jpg) |"
   ]
  },
  {
   "cell_type": "markdown",
   "metadata": {
    "colab_type": "text",
    "id": "eUHC2gtDG5ry"
   },
   "source": [
    "<a id=section106></a>\n",
    "### PCA vs LDA"
   ]
  },
  {
   "cell_type": "markdown",
   "metadata": {
    "colab_type": "text",
    "id": "ThL47BXwG5rz"
   },
   "source": [
    "The difference between the choice of lower dimension space for projecting dataset is evident. If we use PCA on the dataset, it will select a line similar to the decision boundary as it will have maximum variance along it. \n",
    "In practice, often LDA is done after performing PCA.![image.png](attachment:image.png)"
   ]
  },
  {
   "cell_type": "markdown",
   "metadata": {
    "colab_type": "text",
    "id": "zQywfYu9G5r0"
   },
   "source": [
    "<a id=section2></a>\n",
    "## Use Case : IBM Attrition and Performance ( HR Analytics)"
   ]
  },
  {
   "cell_type": "markdown",
   "metadata": {
    "colab_type": "text",
    "id": "lEi0lcP_G5r2"
   },
   "source": [
    "Uncover the factors that lead to employee attrition and explore important questions such as ‘show me a breakdown of distance from home by job role and attrition’ or ‘compare average monthly income by education and attrition’. This is a fictional data set created by IBM data scientists.\n",
    "\n",
    "__Education__\n",
    "1. Below College \n",
    "2. College \n",
    "3. Bachelor \n",
    "4. Master \n",
    "5. Doctor\n",
    "\n",
    "__EnvironmentSatisfaction__\n",
    "1. Low\n",
    "2. Medium\n",
    "3. High\n",
    "4. Very High\n",
    "\n",
    "__JobInvolvement__ \n",
    "1. Low\n",
    "2. Medium\n",
    "3. High\n",
    "4. Very High\n",
    "\n",
    "__JobSatisfaction__\n",
    "1. Low\n",
    "2. Medium\n",
    "3. High\n",
    "4. Very High\n",
    "\n",
    "__PerformanceRating__\n",
    "1. Low\n",
    "2. Good\n",
    "3. Excellent\n",
    "4. Outstanding\n",
    "\n",
    "__RelationshipSatisfaction__ \n",
    "1. Low\n",
    "2. Medium\n",
    "3. High\n",
    "4. Very High\n",
    "\n",
    "__WorkLifeBalance__\n",
    "1. Bad\n",
    "2. Good\n",
    "3. Better\n",
    "4. Best\n",
    "![image.png](attachment:image.png)"
   ]
  },
  {
   "cell_type": "markdown",
   "metadata": {
    "colab_type": "text",
    "id": "grKxSN0lG5r3"
   },
   "source": [
    "<a id=section3></a>\n",
    "### Data Loading and description"
   ]
  },
  {
   "cell_type": "markdown",
   "metadata": {
    "colab_type": "text",
    "id": "zrcd3cPZG5r4"
   },
   "source": [
    "### Import packages"
   ]
  },
  {
   "cell_type": "code",
   "execution_count": 2,
   "metadata": {
    "_uuid": "4c4db65eee1c70cf64a8b1ec5f1294c32424b298",
    "colab": {},
    "colab_type": "code",
    "id": "muC97p2KG5r5"
   },
   "outputs": [],
   "source": [
    "import numpy as np\n",
    "import pandas as pd\n",
    "import matplotlib.pyplot as plt\n",
    "import seaborn as sns\n",
    "%matplotlib inline\n",
    "from collections import Counter\n",
    "import time"
   ]
  },
  {
   "cell_type": "markdown",
   "metadata": {
    "colab_type": "text",
    "id": "IYEV-aNaG5r9"
   },
   "source": [
    "### Import dataset"
   ]
  },
  {
   "cell_type": "code",
   "execution_count": 3,
   "metadata": {
    "_uuid": "521fa04968ee724d4640ed1e3fb0cf0ca640e181",
    "colab": {},
    "colab_type": "code",
    "id": "48rSpSt7G5r-",
    "outputId": "df06ec39-18c3-470c-8e9a-ef057fab6171"
   },
   "outputs": [
    {
     "data": {
      "text/html": [
       "<div>\n",
       "<style scoped>\n",
       "    .dataframe tbody tr th:only-of-type {\n",
       "        vertical-align: middle;\n",
       "    }\n",
       "\n",
       "    .dataframe tbody tr th {\n",
       "        vertical-align: top;\n",
       "    }\n",
       "\n",
       "    .dataframe thead th {\n",
       "        text-align: right;\n",
       "    }\n",
       "</style>\n",
       "<table border=\"1\" class=\"dataframe\">\n",
       "  <thead>\n",
       "    <tr style=\"text-align: right;\">\n",
       "      <th></th>\n",
       "      <th>Age</th>\n",
       "      <th>Attrition</th>\n",
       "      <th>BusinessTravel</th>\n",
       "      <th>DailyRate</th>\n",
       "      <th>Department</th>\n",
       "      <th>DistanceFromHome</th>\n",
       "      <th>Education</th>\n",
       "      <th>EducationField</th>\n",
       "      <th>EmployeeCount</th>\n",
       "      <th>EmployeeNumber</th>\n",
       "      <th>...</th>\n",
       "      <th>RelationshipSatisfaction</th>\n",
       "      <th>StandardHours</th>\n",
       "      <th>StockOptionLevel</th>\n",
       "      <th>TotalWorkingYears</th>\n",
       "      <th>TrainingTimesLastYear</th>\n",
       "      <th>WorkLifeBalance</th>\n",
       "      <th>YearsAtCompany</th>\n",
       "      <th>YearsInCurrentRole</th>\n",
       "      <th>YearsSinceLastPromotion</th>\n",
       "      <th>YearsWithCurrManager</th>\n",
       "    </tr>\n",
       "  </thead>\n",
       "  <tbody>\n",
       "    <tr>\n",
       "      <th>0</th>\n",
       "      <td>41</td>\n",
       "      <td>Yes</td>\n",
       "      <td>Travel_Rarely</td>\n",
       "      <td>1102</td>\n",
       "      <td>Sales</td>\n",
       "      <td>1</td>\n",
       "      <td>2</td>\n",
       "      <td>Life Sciences</td>\n",
       "      <td>1</td>\n",
       "      <td>1</td>\n",
       "      <td>...</td>\n",
       "      <td>1</td>\n",
       "      <td>80</td>\n",
       "      <td>0</td>\n",
       "      <td>8</td>\n",
       "      <td>0</td>\n",
       "      <td>1</td>\n",
       "      <td>6</td>\n",
       "      <td>4</td>\n",
       "      <td>0</td>\n",
       "      <td>5</td>\n",
       "    </tr>\n",
       "    <tr>\n",
       "      <th>1</th>\n",
       "      <td>49</td>\n",
       "      <td>No</td>\n",
       "      <td>Travel_Frequently</td>\n",
       "      <td>279</td>\n",
       "      <td>Research &amp; Development</td>\n",
       "      <td>8</td>\n",
       "      <td>1</td>\n",
       "      <td>Life Sciences</td>\n",
       "      <td>1</td>\n",
       "      <td>2</td>\n",
       "      <td>...</td>\n",
       "      <td>4</td>\n",
       "      <td>80</td>\n",
       "      <td>1</td>\n",
       "      <td>10</td>\n",
       "      <td>3</td>\n",
       "      <td>3</td>\n",
       "      <td>10</td>\n",
       "      <td>7</td>\n",
       "      <td>1</td>\n",
       "      <td>7</td>\n",
       "    </tr>\n",
       "    <tr>\n",
       "      <th>2</th>\n",
       "      <td>37</td>\n",
       "      <td>Yes</td>\n",
       "      <td>Travel_Rarely</td>\n",
       "      <td>1373</td>\n",
       "      <td>Research &amp; Development</td>\n",
       "      <td>2</td>\n",
       "      <td>2</td>\n",
       "      <td>Other</td>\n",
       "      <td>1</td>\n",
       "      <td>4</td>\n",
       "      <td>...</td>\n",
       "      <td>2</td>\n",
       "      <td>80</td>\n",
       "      <td>0</td>\n",
       "      <td>7</td>\n",
       "      <td>3</td>\n",
       "      <td>3</td>\n",
       "      <td>0</td>\n",
       "      <td>0</td>\n",
       "      <td>0</td>\n",
       "      <td>0</td>\n",
       "    </tr>\n",
       "    <tr>\n",
       "      <th>3</th>\n",
       "      <td>33</td>\n",
       "      <td>No</td>\n",
       "      <td>Travel_Frequently</td>\n",
       "      <td>1392</td>\n",
       "      <td>Research &amp; Development</td>\n",
       "      <td>3</td>\n",
       "      <td>4</td>\n",
       "      <td>Life Sciences</td>\n",
       "      <td>1</td>\n",
       "      <td>5</td>\n",
       "      <td>...</td>\n",
       "      <td>3</td>\n",
       "      <td>80</td>\n",
       "      <td>0</td>\n",
       "      <td>8</td>\n",
       "      <td>3</td>\n",
       "      <td>3</td>\n",
       "      <td>8</td>\n",
       "      <td>7</td>\n",
       "      <td>3</td>\n",
       "      <td>0</td>\n",
       "    </tr>\n",
       "    <tr>\n",
       "      <th>4</th>\n",
       "      <td>27</td>\n",
       "      <td>No</td>\n",
       "      <td>Travel_Rarely</td>\n",
       "      <td>591</td>\n",
       "      <td>Research &amp; Development</td>\n",
       "      <td>2</td>\n",
       "      <td>1</td>\n",
       "      <td>Medical</td>\n",
       "      <td>1</td>\n",
       "      <td>7</td>\n",
       "      <td>...</td>\n",
       "      <td>4</td>\n",
       "      <td>80</td>\n",
       "      <td>1</td>\n",
       "      <td>6</td>\n",
       "      <td>3</td>\n",
       "      <td>3</td>\n",
       "      <td>2</td>\n",
       "      <td>2</td>\n",
       "      <td>2</td>\n",
       "      <td>2</td>\n",
       "    </tr>\n",
       "  </tbody>\n",
       "</table>\n",
       "<p>5 rows × 35 columns</p>\n",
       "</div>"
      ],
      "text/plain": [
       "   Age Attrition     BusinessTravel  DailyRate              Department  \\\n",
       "0   41       Yes      Travel_Rarely       1102                   Sales   \n",
       "1   49        No  Travel_Frequently        279  Research & Development   \n",
       "2   37       Yes      Travel_Rarely       1373  Research & Development   \n",
       "3   33        No  Travel_Frequently       1392  Research & Development   \n",
       "4   27        No      Travel_Rarely        591  Research & Development   \n",
       "\n",
       "   DistanceFromHome  Education EducationField  EmployeeCount  EmployeeNumber  \\\n",
       "0                 1          2  Life Sciences              1               1   \n",
       "1                 8          1  Life Sciences              1               2   \n",
       "2                 2          2          Other              1               4   \n",
       "3                 3          4  Life Sciences              1               5   \n",
       "4                 2          1        Medical              1               7   \n",
       "\n",
       "           ...           RelationshipSatisfaction StandardHours  \\\n",
       "0          ...                                  1            80   \n",
       "1          ...                                  4            80   \n",
       "2          ...                                  2            80   \n",
       "3          ...                                  3            80   \n",
       "4          ...                                  4            80   \n",
       "\n",
       "   StockOptionLevel  TotalWorkingYears  TrainingTimesLastYear WorkLifeBalance  \\\n",
       "0                 0                  8                      0               1   \n",
       "1                 1                 10                      3               3   \n",
       "2                 0                  7                      3               3   \n",
       "3                 0                  8                      3               3   \n",
       "4                 1                  6                      3               3   \n",
       "\n",
       "   YearsAtCompany YearsInCurrentRole  YearsSinceLastPromotion  \\\n",
       "0               6                  4                        0   \n",
       "1              10                  7                        1   \n",
       "2               0                  0                        0   \n",
       "3               8                  7                        3   \n",
       "4               2                  2                        2   \n",
       "\n",
       "   YearsWithCurrManager  \n",
       "0                     5  \n",
       "1                     7  \n",
       "2                     0  \n",
       "3                     0  \n",
       "4                     2  \n",
       "\n",
       "[5 rows x 35 columns]"
      ]
     },
     "execution_count": 3,
     "metadata": {},
     "output_type": "execute_result"
    }
   ],
   "source": [
    "#data = pd.read_csv('https://raw.githubusercontent.com/insaid2018/Term-4/master/CaseStudy/Attrition.csv')\n",
    "data = pd.read_csv('G:/Attrition_LDA.csv')\n",
    "data.head()"
   ]
  },
  {
   "cell_type": "markdown",
   "metadata": {
    "_uuid": "aeaa112a3d093451babf802a917124b1fbadc627",
    "colab_type": "text",
    "id": "D6rsgmn0G5sE"
   },
   "source": [
    "The above data consists of a dependent variable Attrition and others as independent variables. Exploring the data would provide explain which model to use."
   ]
  },
  {
   "cell_type": "markdown",
   "metadata": {
    "_uuid": "806865c0a442f28af9daad629119201eee2cf111",
    "colab_type": "text",
    "id": "jaemgYgKG5sF"
   },
   "source": [
    "# Data Exploration"
   ]
  },
  {
   "cell_type": "markdown",
   "metadata": {
    "colab_type": "text",
    "id": "trBMO7B7G5sG"
   },
   "source": [
    "### Correlation heatmap"
   ]
  },
  {
   "cell_type": "code",
   "execution_count": 4,
   "metadata": {
    "_uuid": "8e8789fd29fc324c4951c62646c890385f8ea531",
    "colab": {},
    "colab_type": "code",
    "id": "TjQC3GIFG5sH",
    "outputId": "f6284f5d-0c3a-4dd3-9542-b92f8af2305e"
   },
   "outputs": [
    {
     "data": {
      "image/png": "[encoded data removed]",
      "text/plain": [
       "<Figure size 1008x720 with 2 Axes>"
      ]
     },
     "metadata": {},
     "output_type": "display_data"
    }
   ],
   "source": [
    "plt.figure(figsize=(14,10))\n",
    "sns.heatmap(data.corr(),yticklabels=False,cbar=True,linewidths=0)\n",
    "plt.show()"
   ]
  },
  {
   "cell_type": "markdown",
   "metadata": {
    "_uuid": "9e8cedcb5df868579b04af0f6faf8def96420859",
    "colab_type": "text",
    "id": "gpSfkmlvG5sL"
   },
   "source": [
    "The above data shows there is a severe correlation in the data. Dropping these features may cause to lose enough information. We will try using decomposition to solve this problem."
   ]
  },
  {
   "cell_type": "markdown",
   "metadata": {
    "_uuid": "67542794d26f1c955415699985727c23db42ac49",
    "colab_type": "text",
    "id": "_zRXD162G5sM"
   },
   "source": [
    "### Kernel Density distribution of Daily Rate against EducationalField."
   ]
  },
  {
   "cell_type": "code",
   "execution_count": 7,
   "metadata": {
    "_uuid": "a1f38b94fd4cb43bb7b24b0fed27d2bcef1f1d4c",
    "colab": {},
    "colab_type": "code",
    "id": "67o499gXG5sN",
    "outputId": "522c9adc-45a0-4774-c01c-12efc18e2c89"
   },
   "outputs": [
    {
     "data": {
      "image/png": "[encoded data removed]",
      "text/plain": [
       "<Figure size 576x576 with 1 Axes>"
      ]
     },
     "metadata": {},
     "output_type": "display_data"
    }
   ],
   "source": [
    "    plt.figure(figsize=(8,8))\n",
    "    sns.barplot(x=data['Department'],y=data['DailyRate'],hue=data['EducationField'])\n",
    "    plt.show()"
   ]
  },
  {
   "cell_type": "markdown",
   "metadata": {
    "colab_type": "text",
    "id": "2Y7c61GBG5sR"
   },
   "source": [
    "### Visualize count of Yes and No in the Attrition variable."
   ]
  },
  {
   "cell_type": "code",
   "execution_count": 8,
   "metadata": {
    "_uuid": "41cc8795cf00fbfe9e00de7c648f37ae7a1583e7",
    "colab": {},
    "colab_type": "code",
    "id": "obIDfX9SG5sS",
    "outputId": "84c43509-9192-4b9b-a8bc-0035798f8094"
   },
   "outputs": [
    {
     "data": {
      "image/png": "[encoded data removed]",
      "text/plain": [
       "<Figure size 432x288 with 1 Axes>"
      ]
     },
     "metadata": {},
     "output_type": "display_data"
    }
   ],
   "source": [
    "sns.countplot(data['Attrition'])\n",
    "plt.show()"
   ]
  },
  {
   "cell_type": "markdown",
   "metadata": {
    "colab_type": "text",
    "id": "eD5FDZ5jG5sV"
   },
   "source": [
    "### Check the columns present in the dataset"
   ]
  },
  {
   "cell_type": "code",
   "execution_count": 9,
   "metadata": {
    "_uuid": "d3cd1852a985417172e291a909b818fd37004891",
    "colab": {},
    "colab_type": "code",
    "id": "YPuBqNZMG5sW",
    "outputId": "65c355b3-81ff-4ec2-d5fe-22ec207324f4"
   },
   "outputs": [
    {
     "data": {
      "text/plain": [
       "Index(['Age', 'Attrition', 'BusinessTravel', 'DailyRate', 'Department',\n",
       "       'DistanceFromHome', 'Education', 'EducationField', 'EmployeeCount',\n",
       "       'EmployeeNumber', 'EnvironmentSatisfaction', 'Gender', 'HourlyRate',\n",
       "       'JobInvolvement', 'JobLevel', 'JobRole', 'JobSatisfaction',\n",
       "       'MaritalStatus', 'MonthlyIncome', 'MonthlyRate', 'NumCompaniesWorked',\n",
       "       'Over18', 'OverTime', 'PercentSalaryHike', 'PerformanceRating',\n",
       "       'RelationshipSatisfaction', 'StandardHours', 'StockOptionLevel',\n",
       "       'TotalWorkingYears', 'TrainingTimesLastYear', 'WorkLifeBalance',\n",
       "       'YearsAtCompany', 'YearsInCurrentRole', 'YearsSinceLastPromotion',\n",
       "       'YearsWithCurrManager'],\n",
       "      dtype='object')"
      ]
     },
     "execution_count": 9,
     "metadata": {},
     "output_type": "execute_result"
    }
   ],
   "source": [
    "data.columns"
   ]
  },
  {
   "cell_type": "markdown",
   "metadata": {
    "_uuid": "7e520d0b41b0fa79409dd5acb7ed15a78231417f",
    "colab_type": "text",
    "id": "hac0upwUG5sc"
   },
   "source": [
    "# Feature Engineering"
   ]
  },
  {
   "cell_type": "code",
   "execution_count": 0,
   "metadata": {
    "_uuid": "68f625a265bbf4a000603eab8e8d829e741a662a",
    "colab": {},
    "colab_type": "code",
    "id": "xQijXu8hG5sc",
    "outputId": "e4c2c386-f1de-4197-cabb-d48aaa8d521a"
   },
   "outputs": [
    {
     "name": "stdout",
     "output_type": "stream",
     "text": [
      "<class 'pandas.core.frame.DataFrame'>\n",
      "RangeIndex: 1470 entries, 0 to 1469\n",
      "Data columns (total 35 columns):\n",
      "Age                         1470 non-null int64\n",
      "Attrition                   1470 non-null object\n",
      "BusinessTravel              1470 non-null object\n",
      "DailyRate                   1470 non-null int64\n",
      "Department                  1470 non-null object\n",
      "DistanceFromHome            1470 non-null int64\n",
      "Education                   1470 non-null int64\n",
      "EducationField              1470 non-null object\n",
      "EmployeeCount               1470 non-null int64\n",
      "EmployeeNumber              1470 non-null int64\n",
      "EnvironmentSatisfaction     1470 non-null int64\n",
      "Gender                      1470 non-null object\n",
      "HourlyRate                  1470 non-null int64\n",
      "JobInvolvement              1470 non-null int64\n",
      "JobLevel                    1470 non-null int64\n",
      "JobRole                     1470 non-null object\n",
      "JobSatisfaction             1470 non-null int64\n",
      "MaritalStatus               1470 non-null object\n",
      "MonthlyIncome               1470 non-null int64\n",
      "MonthlyRate                 1470 non-null int64\n",
      "NumCompaniesWorked          1470 non-null int64\n",
      "Over18                      1470 non-null object\n",
      "OverTime                    1470 non-null object\n",
      "PercentSalaryHike           1470 non-null int64\n",
      "PerformanceRating           1470 non-null int64\n",
      "RelationshipSatisfaction    1470 non-null int64\n",
      "StandardHours               1470 non-null int64\n",
      "StockOptionLevel            1470 non-null int64\n",
      "TotalWorkingYears           1470 non-null int64\n",
      "TrainingTimesLastYear       1470 non-null int64\n",
      "WorkLifeBalance             1470 non-null int64\n",
      "YearsAtCompany              1470 non-null int64\n",
      "YearsInCurrentRole          1470 non-null int64\n",
      "YearsSinceLastPromotion     1470 non-null int64\n",
      "YearsWithCurrManager        1470 non-null int64\n",
      "dtypes: int64(26), object(9)\n",
      "memory usage: 402.0+ KB\n"
     ]
    }
   ],
   "source": [
    "data.info()"
   ]
  },
  {
   "cell_type": "markdown",
   "metadata": {
    "_uuid": "d35828a870b7483f9c77e1c83eac92769035c03d",
    "colab_type": "text",
    "id": "LJMgIcXfG5sk"
   },
   "source": [
    "<b> From the above, we can see that there are 9 categorical data. Here we have to create dummy variables of them.</b>"
   ]
  },
  {
   "cell_type": "code",
   "execution_count": 10,
   "metadata": {
    "_uuid": "2a68c3a4b4c8b16f3dc8fe967ef360e2c01c3af2",
    "colab": {},
    "colab_type": "code",
    "id": "tR1XtOq3G5sl"
   },
   "outputs": [],
   "source": [
    "BusinessTravel = pd.get_dummies(data['BusinessTravel'],drop_first=True)"
   ]
  },
  {
   "cell_type": "code",
   "execution_count": 11,
   "metadata": {
    "_uuid": "cda6098bd282bcf81e2ded3bd6013c1e46edb621",
    "colab": {},
    "colab_type": "code",
    "id": "yOiKgkgBG5sn"
   },
   "outputs": [],
   "source": [
    "Department = pd.get_dummies(data['Department'],drop_first=True)"
   ]
  },
  {
   "cell_type": "code",
   "execution_count": 12,
   "metadata": {
    "_uuid": "0911a8322fb66362212aaed75a35d34bb2a108b8",
    "colab": {},
    "colab_type": "code",
    "id": "rnpin8s0G5sq"
   },
   "outputs": [],
   "source": [
    "EducationField = pd.get_dummies(data['EducationField'],drop_first=True)"
   ]
  },
  {
   "cell_type": "code",
   "execution_count": 13,
   "metadata": {
    "_uuid": "aa376c99f2e7aa60462427183bef27da110c40f1",
    "colab": {},
    "colab_type": "code",
    "id": "qhPgQ9BNG5ss"
   },
   "outputs": [],
   "source": [
    "Gender = pd.get_dummies(data['Gender'],drop_first=True)"
   ]
  },
  {
   "cell_type": "code",
   "execution_count": 19,
   "metadata": {
    "_uuid": "8914fc809c267f05beefa680205fb39feae97d01",
    "colab": {},
    "colab_type": "code",
    "id": "RlwlqHNXG5sv"
   },
   "outputs": [],
   "source": [
    "JobRole  = pd.get_dummies(data['JobRole'],drop_first=True)"
   ]
  },
  {
   "cell_type": "code",
   "execution_count": 20,
   "metadata": {
    "_uuid": "c9c87f8429c9b49ef9df312a5a18682c36fdd186",
    "colab": {},
    "colab_type": "code",
    "id": "7XdJSjSXG5sy"
   },
   "outputs": [],
   "source": [
    "MaritalStatus = pd.get_dummies(data['MaritalStatus'],drop_first=True)"
   ]
  },
  {
   "cell_type": "code",
   "execution_count": 21,
   "metadata": {
    "_uuid": "ae1698bb5a3d9d51f0ce980910caaf79e4f5968e",
    "colab": {},
    "colab_type": "code",
    "id": "Fve9jEhQG5s0"
   },
   "outputs": [],
   "source": [
    "Train = data"
   ]
  },
  {
   "cell_type": "code",
   "execution_count": 22,
   "metadata": {
    "_uuid": "c04ec141ddc5dcf085e1b8ce564146d66f495c22",
    "colab": {},
    "colab_type": "code",
    "id": "7_isE8XqG5s3"
   },
   "outputs": [],
   "source": [
    "def StrToBin(a):\n",
    "    if a == 'Yes':\n",
    "        return 1\n",
    "    else:\n",
    "        return 0\n",
    "    "
   ]
  },
  {
   "cell_type": "code",
   "execution_count": 23,
   "metadata": {
    "_uuid": "ded41787793363082b175bb86bb4845f2400fa79",
    "colab": {},
    "colab_type": "code",
    "id": "IPcQx5QtG5s5"
   },
   "outputs": [],
   "source": [
    "def StrToBinb(a):\n",
    "    if a == 'Y':\n",
    "        return 1\n",
    "    else:\n",
    "        return 0\n",
    "    "
   ]
  },
  {
   "cell_type": "code",
   "execution_count": 24,
   "metadata": {
    "_uuid": "51c2ded37e752003e90e201285a28f1d38ef23de",
    "colab": {},
    "colab_type": "code",
    "id": "FhLbCqh7G5s8"
   },
   "outputs": [],
   "source": [
    "Train['Attrition']=Train['Attrition'].apply(StrToBin)"
   ]
  },
  {
   "cell_type": "code",
   "execution_count": 0,
   "metadata": {
    "_uuid": "bd3af9a3606dfd9d77389fa12c62eb735d548026",
    "colab": {},
    "colab_type": "code",
    "id": "FelfzIv5G5s_"
   },
   "outputs": [],
   "source": [
    "Train['OverTime']=Train['OverTime'].apply(StrToBin)"
   ]
  },
  {
   "cell_type": "code",
   "execution_count": 25,
   "metadata": {
    "_uuid": "cfa71125070af8565a2744347ad85aabc122cb0b",
    "colab": {},
    "colab_type": "code",
    "id": "kq36io1WG5tC"
   },
   "outputs": [],
   "source": [
    "Train['Over18']=Train['Over18'].apply(StrToBinb)"
   ]
  },
  {
   "cell_type": "code",
   "execution_count": 26,
   "metadata": {
    "_uuid": "340a2002ca2df639aec136de83d8cd426522044e",
    "colab": {},
    "colab_type": "code",
    "id": "7Zsh0U1vG5tF",
    "outputId": "b6e460b2-99a0-46ac-ec33-896022b0393b"
   },
   "outputs": [
    {
     "name": "stdout",
     "output_type": "stream",
     "text": [
      "<class 'pandas.core.frame.DataFrame'>\n",
      "RangeIndex: 1470 entries, 0 to 1469\n",
      "Data columns (total 35 columns):\n",
      "Age                         1470 non-null int64\n",
      "Attrition                   1470 non-null int64\n",
      "BusinessTravel              1470 non-null object\n",
      "DailyRate                   1470 non-null int64\n",
      "Department                  1470 non-null object\n",
      "DistanceFromHome            1470 non-null int64\n",
      "Education                   1470 non-null int64\n",
      "EducationField              1470 non-null object\n",
      "EmployeeCount               1470 non-null int64\n",
      "EmployeeNumber              1470 non-null int64\n",
      "EnvironmentSatisfaction     1470 non-null int64\n",
      "Gender                      1470 non-null object\n",
      "HourlyRate                  1470 non-null int64\n",
      "JobInvolvement              1470 non-null int64\n",
      "JobLevel                    1470 non-null int64\n",
      "JobRole                     1470 non-null object\n",
      "JobSatisfaction             1470 non-null int64\n",
      "MaritalStatus               1470 non-null object\n",
      "MonthlyIncome               1470 non-null int64\n",
      "MonthlyRate                 1470 non-null int64\n",
      "NumCompaniesWorked          1470 non-null int64\n",
      "Over18                      1470 non-null int64\n",
      "OverTime                    1470 non-null object\n",
      "PercentSalaryHike           1470 non-null int64\n",
      "PerformanceRating           1470 non-null int64\n",
      "RelationshipSatisfaction    1470 non-null int64\n",
      "StandardHours               1470 non-null int64\n",
      "StockOptionLevel            1470 non-null int64\n",
      "TotalWorkingYears           1470 non-null int64\n",
      "TrainingTimesLastYear       1470 non-null int64\n",
      "WorkLifeBalance             1470 non-null int64\n",
      "YearsAtCompany              1470 non-null int64\n",
      "YearsInCurrentRole          1470 non-null int64\n",
      "YearsSinceLastPromotion     1470 non-null int64\n",
      "YearsWithCurrManager        1470 non-null int64\n",
      "dtypes: int64(28), object(7)\n",
      "memory usage: 402.0+ KB\n"
     ]
    }
   ],
   "source": [
    "Train.info()"
   ]
  },
  {
   "cell_type": "markdown",
   "metadata": {
    "colab_type": "text",
    "id": "6H2CEA9vG5tK"
   },
   "source": [
    "### Dropping redundant variables"
   ]
  },
  {
   "cell_type": "code",
   "execution_count": 27,
   "metadata": {
    "_uuid": "4b03236a4215a0b6b7f2d09faa191283ac16556b",
    "colab": {},
    "colab_type": "code",
    "id": "IeA5rIreG5tK"
   },
   "outputs": [],
   "source": [
    "Train.drop(['Department','EducationField','Gender','BusinessTravel','JobRole','MaritalStatus'],axis=1,inplace=True)"
   ]
  },
  {
   "cell_type": "markdown",
   "metadata": {
    "colab_type": "text",
    "id": "ITKLz3n-G5tM"
   },
   "source": [
    "### Concat the spliited data into one."
   ]
  },
  {
   "cell_type": "code",
   "execution_count": 28,
   "metadata": {
    "_uuid": "0ec2cf62bc6b4c95ab7a3bc9d53805d29e317e19",
    "colab": {},
    "colab_type": "code",
    "id": "UlkC-VnpG5tN"
   },
   "outputs": [],
   "source": [
    "Train = pd.concat([Train,Department,EducationField,Gender,BusinessTravel,JobRole,MaritalStatus],axis=1)"
   ]
  },
  {
   "cell_type": "code",
   "execution_count": 30,
   "metadata": {},
   "outputs": [
    {
     "data": {
      "text/plain": [
       "Index(['Age', 'Attrition', 'DailyRate', 'DistanceFromHome', 'Education',\n",
       "       'EmployeeCount', 'EmployeeNumber', 'EnvironmentSatisfaction',\n",
       "       'HourlyRate', 'JobInvolvement', 'JobLevel', 'JobSatisfaction',\n",
       "       'MonthlyIncome', 'MonthlyRate', 'NumCompaniesWorked', 'Over18',\n",
       "       'OverTime', 'PercentSalaryHike', 'PerformanceRating',\n",
       "       'RelationshipSatisfaction', 'StandardHours', 'StockOptionLevel',\n",
       "       'TotalWorkingYears', 'TrainingTimesLastYear', 'WorkLifeBalance',\n",
       "       'YearsAtCompany', 'YearsInCurrentRole', 'YearsSinceLastPromotion',\n",
       "       'YearsWithCurrManager', 'Research & Development', 'Sales',\n",
       "       'Life Sciences', 'Marketing', 'Medical', 'Other', 'Technical Degree',\n",
       "       'Male', 'Travel_Frequently', 'Travel_Rarely', 'Human Resources',\n",
       "       'Laboratory Technician', 'Manager', 'Manufacturing Director',\n",
       "       'Research Director', 'Research Scientist', 'Sales Executive',\n",
       "       'Sales Representative', 'Married', 'Single'],\n",
       "      dtype='object')"
      ]
     },
     "execution_count": 30,
     "metadata": {},
     "output_type": "execute_result"
    }
   ],
   "source": [
    "Train.columns"
   ]
  },
  {
   "cell_type": "markdown",
   "metadata": {
    "_uuid": "9d7ab7afb2f2a7721aa8d1a93bbad1ac973b5619",
    "colab_type": "text",
    "id": "-zWPmxqUG5tP"
   },
   "source": [
    "As we can see, there are many features in this data. Removing the features might lose information. Instead of feature selection, We are going to extract features from this data using Linear Discriminant Analysis."
   ]
  },
  {
   "cell_type": "code",
   "execution_count": 41,
   "metadata": {
    "_uuid": "f4f74643da4518e342c228fc657f3cd444558dac",
    "colab": {},
    "colab_type": "code",
    "id": "PHe_bhwQG5tQ"
   },
   "outputs": [],
   "source": [
    "m = list(Train.columns)\n",
    "n = list(filter(lambda t: t not in ['Attrition', 'OverTime' ], m))"
   ]
  },
  {
   "cell_type": "markdown",
   "metadata": {
    "colab_type": "text",
    "id": "G_3n-PGGG5tS"
   },
   "source": [
    "### Preparing X "
   ]
  },
  {
   "cell_type": "code",
   "execution_count": 42,
   "metadata": {
    "_uuid": "c502ee3807100ab76966b6ff3aed0864c78dbea0",
    "colab": {},
    "colab_type": "code",
    "id": "LLbIzrGMG5tS"
   },
   "outputs": [],
   "source": [
    "X = Train[n]"
   ]
  },
  {
   "cell_type": "code",
   "execution_count": 43,
   "metadata": {},
   "outputs": [
    {
     "name": "stdout",
     "output_type": "stream",
     "text": [
      "<class 'pandas.core.frame.DataFrame'>\n",
      "RangeIndex: 1470 entries, 0 to 1469\n",
      "Data columns (total 47 columns):\n",
      "Age                         1470 non-null int64\n",
      "DailyRate                   1470 non-null int64\n",
      "DistanceFromHome            1470 non-null int64\n",
      "Education                   1470 non-null int64\n",
      "EmployeeCount               1470 non-null int64\n",
      "EmployeeNumber              1470 non-null int64\n",
      "EnvironmentSatisfaction     1470 non-null int64\n",
      "HourlyRate                  1470 non-null int64\n",
      "JobInvolvement              1470 non-null int64\n",
      "JobLevel                    1470 non-null int64\n",
      "JobSatisfaction             1470 non-null int64\n",
      "MonthlyIncome               1470 non-null int64\n",
      "MonthlyRate                 1470 non-null int64\n",
      "NumCompaniesWorked          1470 non-null int64\n",
      "Over18                      1470 non-null int64\n",
      "PercentSalaryHike           1470 non-null int64\n",
      "PerformanceRating           1470 non-null int64\n",
      "RelationshipSatisfaction    1470 non-null int64\n",
      "StandardHours               1470 non-null int64\n",
      "StockOptionLevel            1470 non-null int64\n",
      "TotalWorkingYears           1470 non-null int64\n",
      "TrainingTimesLastYear       1470 non-null int64\n",
      "WorkLifeBalance             1470 non-null int64\n",
      "YearsAtCompany              1470 non-null int64\n",
      "YearsInCurrentRole          1470 non-null int64\n",
      "YearsSinceLastPromotion     1470 non-null int64\n",
      "YearsWithCurrManager        1470 non-null int64\n",
      "Research & Development      1470 non-null uint8\n",
      "Sales                       1470 non-null uint8\n",
      "Life Sciences               1470 non-null uint8\n",
      "Marketing                   1470 non-null uint8\n",
      "Medical                     1470 non-null uint8\n",
      "Other                       1470 non-null uint8\n",
      "Technical Degree            1470 non-null uint8\n",
      "Male                        1470 non-null uint8\n",
      "Travel_Frequently           1470 non-null uint8\n",
      "Travel_Rarely               1470 non-null uint8\n",
      "Human Resources             1470 non-null uint8\n",
      "Laboratory Technician       1470 non-null uint8\n",
      "Manager                     1470 non-null uint8\n",
      "Manufacturing Director      1470 non-null uint8\n",
      "Research Director           1470 non-null uint8\n",
      "Research Scientist          1470 non-null uint8\n",
      "Sales Executive             1470 non-null uint8\n",
      "Sales Representative        1470 non-null uint8\n",
      "Married                     1470 non-null uint8\n",
      "Single                      1470 non-null uint8\n",
      "dtypes: int64(27), uint8(20)\n",
      "memory usage: 338.9 KB\n"
     ]
    }
   ],
   "source": [
    "X.info()"
   ]
  },
  {
   "cell_type": "markdown",
   "metadata": {
    "colab_type": "text",
    "id": "u68kt2cAG5tU"
   },
   "source": [
    "### Preparing y"
   ]
  },
  {
   "cell_type": "code",
   "execution_count": 34,
   "metadata": {
    "_uuid": "197d54c5cd77ace3f6cf8581b961e44866deac94",
    "colab": {},
    "colab_type": "code",
    "id": "I6BQZM0QG5tW"
   },
   "outputs": [],
   "source": [
    "y = Train['Attrition']"
   ]
  },
  {
   "cell_type": "markdown",
   "metadata": {
    "_uuid": "0a4fd8f9c991e1b72116cc1101479e80603fc92e",
    "colab_type": "text",
    "id": "jt-dk089G5tZ"
   },
   "source": [
    "### Train Test Split"
   ]
  },
  {
   "cell_type": "code",
   "execution_count": 44,
   "metadata": {
    "_uuid": "03265e24fe47a7f0c6775aca6408e955e2750c83",
    "colab": {},
    "colab_type": "code",
    "id": "kJt4H8REG5tc"
   },
   "outputs": [],
   "source": [
    "from sklearn.model_selection import train_test_split\n",
    "X_train, X_test, y_train, y_test = train_test_split(X, y, test_size = 0.3, random_state = 0)"
   ]
  },
  {
   "cell_type": "markdown",
   "metadata": {
    "colab_type": "text",
    "id": "slkAFR8BG5te"
   },
   "source": [
    "### Standardizing the variables"
   ]
  },
  {
   "cell_type": "code",
   "execution_count": 45,
   "metadata": {
    "_uuid": "940f9e597cabd078609c36e7e14ffdc84ed86243",
    "colab": {},
    "colab_type": "code",
    "id": "3m60nT6MG5te"
   },
   "outputs": [],
   "source": [
    "from sklearn.preprocessing import StandardScaler\n",
    "sc = StandardScaler()\n",
    "X_train_sc = sc.fit_transform(X_train)\n",
    "X_test_sc = sc.transform(X_test)"
   ]
  },
  {
   "cell_type": "markdown",
   "metadata": {
    "colab_type": "text",
    "id": "QD2l6FReG5th"
   },
   "source": [
    "<a id=section6></a>\n",
    "### Modelling and prediction"
   ]
  },
  {
   "cell_type": "code",
   "execution_count": 53,
   "metadata": {
    "colab": {},
    "colab_type": "code",
    "id": "K1R3SdIxG5ti",
    "outputId": "8a3fb114-5f90-468f-a396-47ce8e8d401b"
   },
   "outputs": [
    {
     "name": "stdout",
     "output_type": "stream",
     "text": [
      "0.15621304512023926\n"
     ]
    },
    {
     "name": "stderr",
     "output_type": "stream",
     "text": [
      "C:\\Users\\SUDHIR\\Anaconda3\\lib\\site-packages\\sklearn\\linear_model\\sag.py:326: ConvergenceWarning: The max_iter was reached which means the coef_ did not converge\n",
      "  \"the coef_ did not converge\", ConvergenceWarning)\n"
     ]
    }
   ],
   "source": [
    "from sklearn.linear_model import LogisticRegression\n",
    "classifier = LogisticRegression(penalty='l2', solver='sag', C=1)\n",
    "start_time = time.time()\n",
    "fit1 = classifier.fit(X_train_sc, y_train)\n",
    "end_time = time.time()\n",
    "time2 = end_time-start_time\n",
    "print(time2)"
   ]
  },
  {
   "cell_type": "code",
   "execution_count": 47,
   "metadata": {
    "colab": {},
    "colab_type": "code",
    "id": "MHnfr89IG5to"
   },
   "outputs": [],
   "source": [
    "y_pred = fit1.predict(X_test_sc)"
   ]
  },
  {
   "cell_type": "code",
   "execution_count": 48,
   "metadata": {
    "colab": {},
    "colab_type": "code",
    "id": "A9N0svA7G5tr",
    "outputId": "f996a653-2363-4b56-d3ab-cdf9ce2e3672"
   },
   "outputs": [
    {
     "name": "stdout",
     "output_type": "stream",
     "text": [
      "[[360  11]\n",
      " [ 52  18]]\n",
      "             precision    recall  f1-score   support\n",
      "\n",
      "          0       0.87      0.97      0.92       371\n",
      "          1       0.62      0.26      0.36        70\n",
      "\n",
      "avg / total       0.83      0.86      0.83       441\n",
      "\n"
     ]
    }
   ],
   "source": [
    "from sklearn.metrics import confusion_matrix,classification_report\n",
    "matrix = confusion_matrix(y_test, y_pred)\n",
    "report = classification_report(y_test, y_pred)\n",
    "print(matrix)\n",
    "print(report)"
   ]
  },
  {
   "cell_type": "markdown",
   "metadata": {
    "_uuid": "98a5e021f80e3c208ba9e4e978c78067e6cdfcb7",
    "colab_type": "text",
    "id": "r-Tr_b3EG5tu"
   },
   "source": [
    "#  MODEL 1: Logistic Regression"
   ]
  },
  {
   "cell_type": "markdown",
   "metadata": {
    "_uuid": "68446d737426410caa169f5db9555d8574cdf89d",
    "colab_type": "text",
    "id": "2jOen1P0G5tu"
   },
   "source": [
    "# Applying LDA"
   ]
  },
  {
   "cell_type": "code",
   "execution_count": 50,
   "metadata": {
    "_uuid": "5e5c958bdfa9791e4d31330b65ffc9d41eb649d0",
    "colab": {},
    "colab_type": "code",
    "id": "nCp1e9QlG5tv"
   },
   "outputs": [],
   "source": [
    "from sklearn.discriminant_analysis import LinearDiscriminantAnalysis as LDA"
   ]
  },
  {
   "cell_type": "code",
   "execution_count": 51,
   "metadata": {
    "_uuid": "afa7c7a672fd23efdcb87e7a3ca576bdcf2a541e",
    "colab": {},
    "colab_type": "code",
    "id": "K3_BL8tuG5tx",
    "outputId": "4b6c8aba-2871-46f9-ccb2-1a05963eb098"
   },
   "outputs": [
    {
     "name": "stderr",
     "output_type": "stream",
     "text": [
      "C:\\Users\\SUDHIR\\Anaconda3\\lib\\site-packages\\sklearn\\discriminant_analysis.py:388: UserWarning: Variables are collinear.\n",
      "  warnings.warn(\"Variables are collinear.\")\n"
     ]
    }
   ],
   "source": [
    "lda = LDA(n_components = 2)\n",
    "X_train = lda.fit_transform(X_train, y_train)\n",
    "X_test = lda.transform(X_test)"
   ]
  },
  {
   "cell_type": "markdown",
   "metadata": {
    "_uuid": "0bc436c23a272bbe147a900a914b92ca3084e600",
    "colab_type": "text",
    "id": "Q4BZ8tNWG5t0"
   },
   "source": [
    "# Logistic Regression"
   ]
  },
  {
   "cell_type": "code",
   "execution_count": 52,
   "metadata": {
    "_uuid": "6729acdb307b7d2e58c022809f9c61059ea4660f",
    "colab": {},
    "colab_type": "code",
    "id": "NKFFsIRSG5t1",
    "outputId": "6dda4f74-a052-41c1-c02d-3cd9d5caf05d"
   },
   "outputs": [
    {
     "name": "stdout",
     "output_type": "stream",
     "text": [
      "0.01562190055847168\n"
     ]
    }
   ],
   "source": [
    "from sklearn.linear_model import LogisticRegression\n",
    "classifier = LogisticRegression(penalty='l2', solver='sag', C=1)\n",
    "start_time = time.time()\n",
    "fit2 = classifier.fit(X_train, y_train)\n",
    "end_time = time.time()\n",
    "time3 = end_time-start_time\n",
    "print(time3)"
   ]
  },
  {
   "cell_type": "code",
   "execution_count": 54,
   "metadata": {
    "_uuid": "71e12d62f1af893c14a4512e7db692a55ee50525",
    "colab": {},
    "colab_type": "code",
    "id": "63UYB5FuG5t4"
   },
   "outputs": [],
   "source": [
    "y_pred = fit2.predict(X_test)"
   ]
  },
  {
   "cell_type": "markdown",
   "metadata": {
    "_uuid": "2e26c891c10397d9055a172278839668073d3301",
    "colab_type": "text",
    "id": "S7LTwxVTG5t7"
   },
   "source": [
    "# Confusion Matrix and Classification Report"
   ]
  },
  {
   "cell_type": "code",
   "execution_count": 55,
   "metadata": {
    "_uuid": "fd0d95880849e00f47a869d6e2964cfbbecae19a",
    "colab": {},
    "colab_type": "code",
    "id": "-7ioWAhbG5t8"
   },
   "outputs": [],
   "source": [
    "from sklearn.metrics import confusion_matrix,classification_report\n",
    "cm = confusion_matrix(y_test, y_pred)\n",
    "cr = classification_report(y_test, y_pred)"
   ]
  },
  {
   "cell_type": "code",
   "execution_count": 56,
   "metadata": {
    "_uuid": "801d1ec198fedea2ec58432d1a2607779a852cf8",
    "colab": {},
    "colab_type": "code",
    "id": "F51q3mhvG5uC",
    "outputId": "c706274d-528f-4902-92b0-6642e5d7313a"
   },
   "outputs": [
    {
     "name": "stdout",
     "output_type": "stream",
     "text": [
      "[[359  12]\n",
      " [ 54  16]]\n",
      "             precision    recall  f1-score   support\n",
      "\n",
      "          0       0.87      0.97      0.92       371\n",
      "          1       0.57      0.23      0.33        70\n",
      "\n",
      "avg / total       0.82      0.85      0.82       441\n",
      "\n"
     ]
    }
   ],
   "source": [
    "print(cm)\n",
    "print(cr)"
   ]
  },
  {
   "cell_type": "markdown",
   "metadata": {
    "_uuid": "91c4613ca1c9125544936fbb37ef975af9b09e8f",
    "colab_type": "text",
    "id": "IGjZINcLG5uF"
   },
   "source": [
    "<b>Applying LDA and then performing Logistic Regression gives us an accuracy score of 87%. "
   ]
  },
  {
   "cell_type": "markdown",
   "metadata": {
    "colab_type": "text",
    "id": "CtH03jgYG5uG"
   },
   "source": [
    "<a id=section7></a>\n",
    "### Computing time difference between two different logistic regression models created"
   ]
  },
  {
   "cell_type": "code",
   "execution_count": 57,
   "metadata": {
    "colab": {},
    "colab_type": "code",
    "id": "ligfbR1DG5uH",
    "outputId": "e025987a-bb8d-4afd-fbae-9c077f289b22"
   },
   "outputs": [
    {
     "name": "stdout",
     "output_type": "stream",
     "text": [
      "0.1000038155996978\n"
     ]
    }
   ],
   "source": [
    "time_diff = time3/time2\n",
    "print(time_diff)"
   ]
  },
  {
   "cell_type": "markdown",
   "metadata": {
    "_uuid": "e9c1a7c2733a1cf59fdc7261ea40d5d6550c1e93",
    "colab_type": "text",
    "id": "uqdIieDzG5uM"
   },
   "source": [
    "<a id=section8></a>\n",
    "## Applying KNN, SVM and Decision Tree and comparing using accuracy score"
   ]
  },
  {
   "cell_type": "markdown",
   "metadata": {
    "_uuid": "46fe4dd46baab453e598abb90238f0701b593357",
    "colab_type": "text",
    "id": "zEvbnuhrG5uN"
   },
   "source": [
    "### Train Test Split"
   ]
  },
  {
   "cell_type": "code",
   "execution_count": 58,
   "metadata": {
    "_uuid": "554791d75ed155a753294127578cd8caffa1785f",
    "colab": {},
    "colab_type": "code",
    "id": "snvmbQYjG5uO"
   },
   "outputs": [],
   "source": [
    "from sklearn.model_selection import train_test_split\n",
    "X_train, X_test, y_train, y_test = train_test_split(X, y, test_size = 0.2, random_state = 0)"
   ]
  },
  {
   "cell_type": "markdown",
   "metadata": {
    "_uuid": "df6c31a982e0849eb006fa80952551238247c79e",
    "colab_type": "text",
    "id": "1qvACNbvG5uQ"
   },
   "source": [
    "<b>Applying LDA</b>"
   ]
  },
  {
   "cell_type": "code",
   "execution_count": 59,
   "metadata": {
    "_uuid": "3195ce93b7fe11db0ab95a1feeceb38e8e66c5d4",
    "colab": {},
    "colab_type": "code",
    "id": "9FPKPoi1G5uR"
   },
   "outputs": [],
   "source": [
    "from sklearn.discriminant_analysis import LinearDiscriminantAnalysis as LDA"
   ]
  },
  {
   "cell_type": "code",
   "execution_count": 60,
   "metadata": {
    "_uuid": "9d19da9c5e74402b1113b883d7dab1eeef54c3e9",
    "colab": {},
    "colab_type": "code",
    "id": "jFQ_ZtXrG5uS",
    "outputId": "3f1baac4-0c35-4fe2-fea9-6cc2ec6a4464"
   },
   "outputs": [
    {
     "name": "stderr",
     "output_type": "stream",
     "text": [
      "C:\\Users\\SUDHIR\\Anaconda3\\lib\\site-packages\\sklearn\\utils\\validation.py:475: DataConversionWarning: Data with input dtype int64 was converted to float64 by StandardScaler.\n",
      "  warnings.warn(msg, DataConversionWarning)\n",
      "C:\\Users\\SUDHIR\\Anaconda3\\lib\\site-packages\\sklearn\\utils\\validation.py:475: DataConversionWarning: Data with input dtype int64 was converted to float64 by StandardScaler.\n",
      "  warnings.warn(msg, DataConversionWarning)\n",
      "C:\\Users\\SUDHIR\\Anaconda3\\lib\\site-packages\\sklearn\\utils\\validation.py:475: DataConversionWarning: Data with input dtype int64 was converted to float64 by StandardScaler.\n",
      "  warnings.warn(msg, DataConversionWarning)\n",
      "C:\\Users\\SUDHIR\\Anaconda3\\lib\\site-packages\\sklearn\\utils\\validation.py:475: DataConversionWarning: Data with input dtype int64 was converted to float64 by StandardScaler.\n",
      "  warnings.warn(msg, DataConversionWarning)\n",
      "C:\\Users\\SUDHIR\\Anaconda3\\lib\\site-packages\\sklearn\\utils\\validation.py:475: DataConversionWarning: Data with input dtype int64 was converted to float64 by StandardScaler.\n",
      "  warnings.warn(msg, DataConversionWarning)\n",
      "C:\\Users\\SUDHIR\\Anaconda3\\lib\\site-packages\\sklearn\\utils\\validation.py:475: DataConversionWarning: Data with input dtype int64 was converted to float64 by StandardScaler.\n",
      "  warnings.warn(msg, DataConversionWarning)\n"
     ]
    }
   ],
   "source": [
    "lda = LDA(n_components = 2,solver='eigen',shrinkage='auto')\n",
    "X_train = lda.fit_transform(X_train, y_train)\n",
    "X_test = lda.transform(X_test)"
   ]
  },
  {
   "cell_type": "markdown",
   "metadata": {
    "_uuid": "0137171a12362f9d90104427d12890ab613942ca",
    "colab_type": "text",
    "id": "9t1u-Wd_G5uX"
   },
   "source": [
    "<b> 1) Performing KNN </b>"
   ]
  },
  {
   "cell_type": "code",
   "execution_count": 61,
   "metadata": {
    "_uuid": "3ec55066843c6d5bbb41258dd5d35347b3f61acc",
    "colab": {},
    "colab_type": "code",
    "id": "jhHeEtbbG5uX",
    "outputId": "ac68fcf1-be82-49f0-dffb-18ccfbac516d"
   },
   "outputs": [
    {
     "data": {
      "text/plain": [
       "KNeighborsClassifier(algorithm='brute', leaf_size=30, metric='minkowski',\n",
       "           metric_params=None, n_jobs=1, n_neighbors=17, p=2,\n",
       "           weights='distance')"
      ]
     },
     "execution_count": 61,
     "metadata": {},
     "output_type": "execute_result"
    }
   ],
   "source": [
    "from sklearn.neighbors import KNeighborsClassifier\n",
    "knn = KNeighborsClassifier(n_neighbors=17,weights='distance',algorithm='brute')\n",
    "knn.fit(X_train,y_train)"
   ]
  },
  {
   "cell_type": "code",
   "execution_count": 62,
   "metadata": {
    "_uuid": "dd2d967a30efe8c110a33e62c294cd8d7be514d8",
    "colab": {},
    "colab_type": "code",
    "id": "aJdCzpBGG5uZ"
   },
   "outputs": [],
   "source": [
    "pred = knn.predict(X_test)"
   ]
  },
  {
   "cell_type": "markdown",
   "metadata": {
    "_uuid": "f6af06a23b2b983262cb86fb2a0b7abd16be1192",
    "colab_type": "text",
    "id": "HIG3aLZKG5uc"
   },
   "source": [
    "<b> Choosing the best K </b>"
   ]
  },
  {
   "cell_type": "code",
   "execution_count": 63,
   "metadata": {
    "_uuid": "e8529a877ac60a799bb2aac4f703587cd84bb29a",
    "colab": {},
    "colab_type": "code",
    "id": "tj2iImqSG5ud"
   },
   "outputs": [],
   "source": [
    "error_rate = []\n",
    "for i in range(1,40):\n",
    "    knn = KNeighborsClassifier(n_neighbors=i)\n",
    "    knn.fit(X_train,y_train)\n",
    "    pred_i = knn.predict(X_test)\n",
    "    error_rate.append(np.mean(pred_i != y_test))"
   ]
  },
  {
   "cell_type": "code",
   "execution_count": 0,
   "metadata": {
    "_uuid": "909566de57b6d7cce8deb4838d93c8a88330791b",
    "colab": {},
    "colab_type": "code",
    "id": "mul1QsSvG5uf",
    "outputId": "d165706b-eed4-4e03-d40d-05c48e49150b"
   },
   "outputs": [
    {
     "data": {
      "text/plain": [
       "Text(0,0.5,'Error Rate')"
      ]
     },
     "execution_count": 44,
     "metadata": {
      "tags": []
     },
     "output_type": "execute_result"
    },
    {
     "data": {
      "image/png": "[encoded data removed]",
      "text/plain": [
       "<Figure size 720x432 with 1 Axes>"
      ]
     },
     "metadata": {
      "needs_background": "light",
      "tags": []
     },
     "output_type": "display_data"
    }
   ],
   "source": [
    "plt.figure(figsize=(10,6))\n",
    "plt.plot(range(1,40),error_rate,color='blue', linestyle='dashed', marker='o',\n",
    "         markerfacecolor='red', markersize=10)\n",
    "plt.title('Error Rate vs. K Value')\n",
    "plt.xlabel('K')\n",
    "plt.ylabel('Error Rate')"
   ]
  },
  {
   "cell_type": "markdown",
   "metadata": {
    "_uuid": "b90c42612ee3a829db8e4ef2bfcd7ba86835ca87",
    "colab_type": "text",
    "id": "pXAk2j9xG5ui"
   },
   "source": [
    "<b> Report </b>"
   ]
  },
  {
   "cell_type": "code",
   "execution_count": 65,
   "metadata": {
    "_uuid": "4c06a4f1e96f8a1c51b30147fa2a0e4e7b295c61",
    "colab": {},
    "colab_type": "code",
    "id": "ajvdxp0yG5uj",
    "outputId": "165ff56b-4533-494e-c9fa-c4ab2bab707c"
   },
   "outputs": [
    {
     "name": "stdout",
     "output_type": "stream",
     "text": [
      "[[230  15]\n",
      " [ 36  13]]\n",
      "             precision    recall  f1-score   support\n",
      "\n",
      "          0       0.86      0.94      0.90       245\n",
      "          1       0.46      0.27      0.34        49\n",
      "\n",
      "avg / total       0.80      0.83      0.81       294\n",
      "\n"
     ]
    }
   ],
   "source": [
    "from sklearn.metrics import classification_report,confusion_matrix\n",
    "print(confusion_matrix(y_test,pred))\n",
    "print(classification_report(y_test,pred))"
   ]
  },
  {
   "cell_type": "markdown",
   "metadata": {
    "colab_type": "text",
    "id": "PcIXckVWG5ul"
   },
   "source": [
    "### Model Evaluation using accuracy score."
   ]
  },
  {
   "cell_type": "code",
   "execution_count": 66,
   "metadata": {
    "colab": {},
    "colab_type": "code",
    "id": "NOorD3svG5um",
    "outputId": "7bbdf7a2-b58d-419c-f37c-d5206f7c3db4"
   },
   "outputs": [
    {
     "name": "stdout",
     "output_type": "stream",
     "text": [
      "0.826530612244898\n"
     ]
    }
   ],
   "source": [
    "from sklearn.metrics import accuracy_score\n",
    "print(accuracy_score(y_test, pred))"
   ]
  },
  {
   "cell_type": "markdown",
   "metadata": {
    "_uuid": "447d9ba69f90dde7a3e1a715877f7aca6ba8e387",
    "colab_type": "text",
    "id": "_wVa3Hu-G5up"
   },
   "source": [
    "--------------------------------------------------------------------------------------------------------------------------------"
   ]
  },
  {
   "cell_type": "markdown",
   "metadata": {
    "_uuid": "a4385847037cf08be529136b60a77e66b647a254",
    "colab_type": "text",
    "id": "eBhBoznPG5up"
   },
   "source": [
    "--------------------------------------------------------------------------------------------------------------------------------"
   ]
  },
  {
   "cell_type": "markdown",
   "metadata": {
    "_uuid": "404e91f0dd9dda0334f74adef0432b20601b3754",
    "colab_type": "text",
    "id": "KfMcphMKG5uq"
   },
   "source": [
    "#  MODEL 3: SVM"
   ]
  },
  {
   "cell_type": "markdown",
   "metadata": {
    "_uuid": "6f9ec4cf121674b342519f6bac601f1c247df950",
    "colab_type": "text",
    "id": "I8XWlYK-G5uq"
   },
   "source": [
    "# Train Test Split"
   ]
  },
  {
   "cell_type": "code",
   "execution_count": 0,
   "metadata": {
    "_uuid": "638105fce2598c8106f369a9acf7312481f5a37e",
    "colab": {},
    "colab_type": "code",
    "id": "9f5h5dXEG5ur"
   },
   "outputs": [],
   "source": [
    "from sklearn.model_selection import train_test_split\n",
    "X_train, X_test, y_train, y_test = train_test_split(X, y, test_size = 0.3, random_state = 0)"
   ]
  },
  {
   "cell_type": "markdown",
   "metadata": {
    "_uuid": "7c9cca406c34703a65eea5d3c8c5fc3b85e67f5b",
    "colab_type": "text",
    "id": "b-P9mBGJG5ut"
   },
   "source": [
    "<b> Applying LDA </b>"
   ]
  },
  {
   "cell_type": "code",
   "execution_count": 0,
   "metadata": {
    "_uuid": "cfcee3419728a7876d7913df5c05eab253c367ab",
    "colab": {},
    "colab_type": "code",
    "id": "FkR_OkCeG5ut",
    "outputId": "80e1081a-7605-41cf-e8c4-e717c7959d8a"
   },
   "outputs": [
    {
     "name": "stderr",
     "output_type": "stream",
     "text": [
      "C:\\Users\\mrshu\\Anaconda3\\lib\\site-packages\\sklearn\\discriminant_analysis.py:388: UserWarning: Variables are collinear.\n",
      "  warnings.warn(\"Variables are collinear.\")\n"
     ]
    }
   ],
   "source": [
    "from sklearn.discriminant_analysis import LinearDiscriminantAnalysis as LDA\n",
    "lda = LDA(n_components = 2,solver='svd')\n",
    "X_train = lda.fit_transform(X_train, y_train)\n",
    "X_test = lda.transform(X_test)"
   ]
  },
  {
   "cell_type": "code",
   "execution_count": 0,
   "metadata": {
    "_uuid": "adea6b97b0b3309cc9ec0e08ce26334bf39c2d0e",
    "colab": {},
    "colab_type": "code",
    "id": "e1RCBGwFG5uw",
    "outputId": "3a6f3260-cda4-423b-b5bd-bcb51e1c2658"
   },
   "outputs": [
    {
     "data": {
      "text/plain": [
       "SVC(C=100, cache_size=200, class_weight=None, coef0=0.0,\n",
       "  decision_function_shape='ovr', degree=3, gamma='auto', kernel='rbf',\n",
       "  max_iter=-1, probability=False, random_state=None, shrinking=True,\n",
       "  tol=0.001, verbose=False)"
      ]
     },
     "execution_count": 49,
     "metadata": {
      "tags": []
     },
     "output_type": "execute_result"
    }
   ],
   "source": [
    "from sklearn.svm import SVC\n",
    "model = SVC(C=100,kernel = 'rbf')\n",
    "model.fit(X_train,y_train)"
   ]
  },
  {
   "cell_type": "code",
   "execution_count": 0,
   "metadata": {
    "_uuid": "36cf04b2a6bf3d72fc941c96415b0a872b466a28",
    "colab": {},
    "colab_type": "code",
    "id": "HS78961lG5ux"
   },
   "outputs": [],
   "source": [
    "predictions = model.predict(X_test)"
   ]
  },
  {
   "cell_type": "markdown",
   "metadata": {
    "_uuid": "216d253f19849f5793067aa36f33c1504cd81bbb",
    "colab_type": "text",
    "id": "katN1hsfG5u1"
   },
   "source": [
    "<b> Report </b>"
   ]
  },
  {
   "cell_type": "code",
   "execution_count": 0,
   "metadata": {
    "_uuid": "df51aa0881d7b1611b26da98369be77a9785086c",
    "colab": {},
    "colab_type": "code",
    "id": "2BP8B8YKG5u1",
    "outputId": "e277ee40-87f0-40e6-f8be-08c7461fef9e"
   },
   "outputs": [
    {
     "name": "stdout",
     "output_type": "stream",
     "text": [
      "[[359  12]\n",
      " [ 41  29]]\n",
      "             precision    recall  f1-score   support\n",
      "\n",
      "          0       0.90      0.97      0.93       371\n",
      "          1       0.71      0.41      0.52        70\n",
      "\n",
      "avg / total       0.87      0.88      0.87       441\n",
      "\n"
     ]
    }
   ],
   "source": [
    "from sklearn.metrics import classification_report,confusion_matrix\n",
    "print(confusion_matrix(y_test,predictions))\n",
    "print(classification_report(y_test,predictions))"
   ]
  },
  {
   "cell_type": "code",
   "execution_count": 0,
   "metadata": {
    "colab": {},
    "colab_type": "code",
    "id": "U2UcvWeXG5u5",
    "outputId": "2b044721-954a-436d-94c1-e2a0e90dbb3c"
   },
   "outputs": [
    {
     "name": "stdout",
     "output_type": "stream",
     "text": [
      "0.8798185941043084\n"
     ]
    }
   ],
   "source": [
    "print(accuracy_score(y_test, predictions))"
   ]
  },
  {
   "cell_type": "markdown",
   "metadata": {
    "_uuid": "1ccf6e67f7f97c1cadc66c186f329f8b8ea78993",
    "colab_type": "text",
    "id": "67U1SZLBG5u7"
   },
   "source": [
    "# Decision Tree"
   ]
  },
  {
   "cell_type": "code",
   "execution_count": 0,
   "metadata": {
    "_uuid": "f749c717a2c28505a6a5c1a9d686691a5cb22d62",
    "colab": {},
    "colab_type": "code",
    "id": "7x0aWjHkG5u8"
   },
   "outputs": [],
   "source": [
    "from sklearn.tree import DecisionTreeClassifier as DTC"
   ]
  },
  {
   "cell_type": "code",
   "execution_count": 0,
   "metadata": {
    "_uuid": "9de3080d97e2e71bb86b0ce6e75414f1ec2667ba",
    "colab": {},
    "colab_type": "code",
    "id": "3UZSljTEG5u_"
   },
   "outputs": [],
   "source": [
    "dt = DTC(criterion='entropy',splitter='random')"
   ]
  },
  {
   "cell_type": "code",
   "execution_count": 0,
   "metadata": {
    "_uuid": "472756664709d1d76aa19398887cfe0660b9494e",
    "colab": {},
    "colab_type": "code",
    "id": "dW5OCOAJG5vA"
   },
   "outputs": [],
   "source": [
    "tree = dt.fit(X_train,y_train)"
   ]
  },
  {
   "cell_type": "code",
   "execution_count": 0,
   "metadata": {
    "_uuid": "0a0af1b9cb941a6c8488fbdbd7204b7d8bc705c9",
    "colab": {},
    "colab_type": "code",
    "id": "_Snos1tsG5vC"
   },
   "outputs": [],
   "source": [
    "pred_t = dt.predict(X_test)"
   ]
  },
  {
   "cell_type": "code",
   "execution_count": 0,
   "metadata": {
    "_uuid": "78028a6b39aec8e74a9f5431cb70b587d3c42363",
    "colab": {},
    "colab_type": "code",
    "id": "WBrVfYKwG5vF"
   },
   "outputs": [],
   "source": [
    "cm = confusion_matrix(y_test,pred_t)"
   ]
  },
  {
   "cell_type": "code",
   "execution_count": 0,
   "metadata": {
    "_uuid": "38ec33f8ba1463c97764f32ca159e25d5399e1b5",
    "colab": {},
    "colab_type": "code",
    "id": "o87me0N-G5vH"
   },
   "outputs": [],
   "source": [
    "cr = classification_report(y_test,pred_t)"
   ]
  },
  {
   "cell_type": "code",
   "execution_count": 0,
   "metadata": {
    "_uuid": "83140a50af43a37ba7c76882d28fbc26a754cca7",
    "colab": {},
    "colab_type": "code",
    "id": "3UOepoDsG5vK",
    "outputId": "1b4aae03-9b90-4a32-f319-b822f9ae4169",
    "scrolled": true
   },
   "outputs": [
    {
     "name": "stdout",
     "output_type": "stream",
     "text": [
      "[[336  35]\n",
      " [ 40  30]]\n",
      "             precision    recall  f1-score   support\n",
      "\n",
      "          0       0.89      0.91      0.90       371\n",
      "          1       0.46      0.43      0.44        70\n",
      "\n",
      "avg / total       0.83      0.83      0.83       441\n",
      "\n"
     ]
    }
   ],
   "source": [
    "print(cm)\n",
    "print(cr)"
   ]
  },
  {
   "cell_type": "code",
   "execution_count": 0,
   "metadata": {
    "colab": {},
    "colab_type": "code",
    "id": "N5_Ir0AuG5vN",
    "outputId": "d5ecf70f-b010-4678-eb7d-5cfdefc16461"
   },
   "outputs": [
    {
     "name": "stdout",
     "output_type": "stream",
     "text": [
      "0.8299319727891157\n"
     ]
    }
   ],
   "source": [
    "print(accuracy_score(y_test, pred_t))"
   ]
  },
  {
   "cell_type": "markdown",
   "metadata": {
    "colab_type": "text",
    "id": "Q74nb1XFG5vS"
   },
   "source": [
    "<a id=section9></a>\n",
    "### Conclusions"
   ]
  },
  {
   "cell_type": "markdown",
   "metadata": {
    "_uuid": "b919f517c0e1df1a047fde36a00e1aac6258e9ce",
    "colab_type": "text",
    "id": "bkYJKwkdG5vT"
   },
   "source": [
    "From this we can see that the best algorithm to predict if an employee will leave or not is **KNN** followed by **Logistic Regression**."
   ]
  }
 ],
 "metadata": {
  "colab": {
   "name": "HR Attrition using LDA.ipynb",
   "provenance": [],
   "version": "0.3.2"
  },
  "kernelspec": {
   "display_name": "Python 3",
   "language": "python",
   "name": "python3"
  },
  "language_info": {
   "codemirror_mode": {
    "name": "ipython",
    "version": 3
   },
   "file_extension": ".py",
   "mimetype": "text/x-python",
   "name": "python",
   "nbconvert_exporter": "python",
   "pygments_lexer": "ipython3",
   "version": "3.6.5"
  }
 },
 "nbformat": 4,
 "nbformat_minor": 1
}
